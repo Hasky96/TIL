{
 "cells": [
  {
   "cell_type": "markdown",
   "metadata": {},
   "source": [
    "<p style=\"font-size: 33px; font-weight: 700; margin-bottom: 3rem\">모듈(Module)</p>\n",
    "\n",
    "> 파일 단위의 코드 재사용\n",
    "\n",
    "- 모듈(Module)\n",
    "- 패키지(Package)\n",
    "\n",
    "|용어|정의|\n",
    "| --------| ------------------- |\n",
    "|  모듈   | 특정 기능을 `.py` **파일 단위**로 작성한 것. |\n",
    "|  패키지  | 특정 기능과 관련된 여러 **모듈들의 집합**. 패키지 안에는 또다른 서브 패키지를 포함 할수도 있음.  |\n",
    "| 파이썬 표준 라이브러리 | 파이썬에 **기본적으로 설치된 모듈과 내장 함수**를 묶어서 파이썬 표준 라이브러리 (Python Standard Library, PSL) 라 불림. |\n",
    "| 패키지 관리자(**`pip`**) | `PyPI` 에 저장된 외부 패키지들을 설치하도록 도와주는 패키지. |"
   ]
  },
  {
   "cell_type": "markdown",
   "metadata": {},
   "source": [
    "# 모듈(Module)\n",
    "\n",
    "모듈(module)은 특정 기능을 하는 코드를 담고 있는 파일(또는 스크립트)입니다. \n"
   ]
  },
  {
   "cell_type": "markdown",
   "metadata": {},
   "source": [
    "## 모듈 생성\n",
    "- jupyter notebook 파일트리화면에서 New > Text File\n",
    "- 파일의 이름을 `check.py` 로 저장"
   ]
  },
  {
   "cell_type": "code",
   "execution_count": null,
   "metadata": {},
   "outputs": [],
   "source": [
    "# 빈번히 활용되는 짝수 홀수 판별식을 작성해봅시다."
   ]
  },
  {
   "cell_type": "code",
   "execution_count": 26,
   "metadata": {},
   "outputs": [],
   "source": [
    "# check.py\n",
    "def odd(n):\n",
    "    return bool(n % 2)\n",
    "\n",
    "def even(n):\n",
    "    return not bool(n % 2)"
   ]
  },
  {
   "cell_type": "markdown",
   "metadata": {},
   "source": [
    "## 모듈 활용\n",
    "\n",
    "### `import`\n",
    "- 모듈을 활용하기 위해서는 반드시 `import`문을 통해 내장 모듈을 이름 공간으로 가져와야합니다."
   ]
  },
  {
   "cell_type": "code",
   "execution_count": null,
   "metadata": {},
   "outputs": [],
   "source": [
    "# import를 이용하여 check.py를 가져옵니다."
   ]
  },
  {
   "cell_type": "code",
   "execution_count": 78,
   "metadata": {},
   "outputs": [],
   "source": [
    "import check"
   ]
  },
  {
   "cell_type": "code",
   "execution_count": null,
   "metadata": {},
   "outputs": [],
   "source": [
    "# 우리가 만든 odd, even 함수를 확인할 수 있습니다."
   ]
  },
  {
   "cell_type": "code",
   "execution_count": 81,
   "metadata": {},
   "outputs": [
    {
     "name": "stdout",
     "output_type": "stream",
     "text": [
      "False\n",
      "True\n"
     ]
    }
   ],
   "source": [
    "print(check.odd(2))\n",
    "print(check.even(2))"
   ]
  },
  {
   "cell_type": "code",
   "execution_count": null,
   "metadata": {},
   "outputs": [],
   "source": [
    "# 함수를 활용해봅시다."
   ]
  },
  {
   "cell_type": "code",
   "execution_count": 82,
   "metadata": {},
   "outputs": [
    {
     "name": "stdout",
     "output_type": "stream",
     "text": [
      "1,3,5,7,9,11,13,15,17,19,21,23,25,27,29,31,33,35,37,39,41,43,45,47,49,51,53,55,57,59,61,63,65,67,69,71,73,75,77,79,81,83,85,87,89,91,93,95,97,99,"
     ]
    }
   ],
   "source": [
    "for i in range(100):\n",
    "    if check.odd(i):\n",
    "        print(i,end=',')"
   ]
  },
  {
   "cell_type": "markdown",
   "metadata": {},
   "source": [
    "---"
   ]
  },
  {
   "cell_type": "markdown",
   "metadata": {},
   "source": [
    "# 패키지(Package)\n",
    "패키지(pakcage)는 **점(`.`)으로 구분된 모듈 이름(`package.module`)** 을 써서 모듈을 구조화하는 방법입니다."
   ]
  },
  {
   "cell_type": "markdown",
   "metadata": {},
   "source": [
    "## 패키지 생성\n",
    "\n",
    "- jupyter notebook 파일트리화면에서 New > Folder\n",
    "- 다음과 같은 폴더구조 생성\n",
    "\n",
    "```python\n",
    "my_package/\n",
    "    __init__.py\n",
    "    math/\n",
    "        __init__.py\n",
    "        tools.py  \n",
    "```\n",
    "> 모듈 이름 `my_package.math`는 `my_package`라는 이름의 패키지에 있는 `math`라는 이름의 하위 패키지를 가리킵니다.\n",
    "\n",
    "- **`__init__.py`**?\n",
    "> python3.3 버전부터는 `__init__.py` 파일이 없어도 패키지로 인식합니다(PEP 420). 하지만 하위 버전 호환 및 일부 프레임워크에서의 올바른 동작을 위해 `__init__.py` 파일을 생성하는 것이 권장됩니다."
   ]
  },
  {
   "cell_type": "code",
   "execution_count": null,
   "metadata": {},
   "outputs": [],
   "source": [
    "# my_package/__init__.py\n",
    "# 모든 __init__.py 파일은 비워둡니다."
   ]
  },
  {
   "cell_type": "code",
   "execution_count": null,
   "metadata": {},
   "outputs": [],
   "source": [
    "# my_package/math/__init__.py\n",
    "# 모든 __init__.py 파일은 비워둡니다."
   ]
  },
  {
   "cell_type": "code",
   "execution_count": null,
   "metadata": {},
   "outputs": [],
   "source": [
    "# my_package/math/tools.py\n",
    "\n",
    "pi = 3.14159265358979323846\n",
    "\n",
    "e = 2.71828182845904523536\n",
    "\n",
    "def my_max(a, b):\n",
    "    if a > b:\n",
    "        return a\n",
    "    else:\n",
    "        return b"
   ]
  },
  {
   "cell_type": "markdown",
   "metadata": {},
   "source": [
    "### [연습] 패키지 만들기\n",
    "\n",
    "> `my_package` 패키지 내부에 `statistics` 패키지를 만들고, `tools.py` 모듈 생성 후, 아래의 표준편차 함수 `standard_deviation()`를 추가해보세요.  \n",
    "\n",
    "#### [폴더구조]\n",
    "```py\n",
    "my_package/\n",
    "    __init__.py\n",
    "    math/\n",
    "        __init__.py\n",
    "        tools.py  \n",
    "    statistics/\n",
    "        __init__.py\n",
    "        tools.py\n",
    "```\n",
    "\n",
    "#### `standard_deviation()` 함수\n",
    "```py\n",
    "import math \n",
    "\n",
    "def standard_deviation(values):\n",
    "    mean = sum(values) / len(values)\n",
    "    sum_var = sum(pow(value - mean, 2) for value in values) / len(values)\n",
    "    std_dev = math.sqrt(sum_var)\n",
    "    return std_dev\n",
    "```"
   ]
  },
  {
   "cell_type": "markdown",
   "metadata": {},
   "source": [
    "## 패키지 활용\n",
    "- 모듈과 동일하게 `from`과 `import` 키워드를 통해 코드를 가져와(import) 활용합니다."
   ]
  },
  {
   "cell_type": "markdown",
   "metadata": {},
   "source": [
    "### `from` *패키지* `import` *모듈*\n",
    "\n",
    "`import`는 `from`과 함께 다양한 방법으로 활용할 수 있습니다."
   ]
  },
  {
   "cell_type": "code",
   "execution_count": null,
   "metadata": {},
   "outputs": [],
   "source": [
    "# math 패키지의 tools 모듈을 추가해봅시다."
   ]
  },
  {
   "cell_type": "code",
   "execution_count": 88,
   "metadata": {},
   "outputs": [],
   "source": [
    "from my_package.math import tools "
   ]
  },
  {
   "cell_type": "markdown",
   "metadata": {},
   "source": [
    "### `from` *패키지.모듈* `import` *데이터*\n",
    "\n",
    "특정한 함수 혹은 어트리뷰트만 활용하고 싶을 때, 아래와 같이 작성합니다."
   ]
  },
  {
   "cell_type": "code",
   "execution_count": null,
   "metadata": {},
   "outputs": [],
   "source": [
    "# 특정한 데이터 혹은 함수만 활용하고 싶을 때, 아래와 같이 작성합니다. 모듈 내부의 자연 상수 e를 간단하게 출력해봅시다."
   ]
  },
  {
   "cell_type": "code",
   "execution_count": 90,
   "metadata": {},
   "outputs": [
    {
     "name": "stdout",
     "output_type": "stream",
     "text": [
      "2.718281828459045\n"
     ]
    },
    {
     "data": {
      "text/plain": [
       "20"
      ]
     },
     "execution_count": 90,
     "metadata": {},
     "output_type": "execute_result"
    }
   ],
   "source": [
    "print(e)\n",
    "my_max(10,20)"
   ]
  },
  {
   "cell_type": "markdown",
   "metadata": {},
   "source": [
    "### `from` *모듈* `import` `*`\n",
    "\n",
    "해당하는 모듈 내의 모든 변수, 함수, 클래스를 가져옵니다."
   ]
  },
  {
   "cell_type": "code",
   "execution_count": null,
   "metadata": {},
   "outputs": [],
   "source": [
    "# math 패키지내부의 tools 모듈에서 모든 변수와 함수를 가져와봅시다."
   ]
  },
  {
   "cell_type": "code",
   "execution_count": null,
   "metadata": {},
   "outputs": [],
   "source": []
  },
  {
   "cell_type": "markdown",
   "metadata": {},
   "source": [
    "### `from` *모듈* `import` *데이터*  `as` *별명*\n",
    "\n",
    "내가 지정하는 이름을 붙여 가져올 수 있습니다."
   ]
  },
  {
   "cell_type": "code",
   "execution_count": null,
   "metadata": {},
   "outputs": [],
   "source": [
    "# statistics 패키지 tools 모듈에 정의한 standard_deviation 함수를 짧은 이름(sd)으로 줄여 활용해봅시다."
   ]
  },
  {
   "cell_type": "code",
   "execution_count": null,
   "metadata": {},
   "outputs": [],
   "source": []
  },
  {
   "cell_type": "markdown",
   "metadata": {},
   "source": [
    "# 정리"
   ]
  },
  {
   "cell_type": "markdown",
   "metadata": {},
   "source": [
    "## 다양한 모듈 사용법\n",
    "### 모듈\n",
    "```py\n",
    "import module\n",
    "from module import var, function, Class\n",
    "from module import *\n",
    "```\n",
    "\n",
    "### 패키지\n",
    "```py\n",
    "from package import module\n",
    "from package.module import var, function, Class\n",
    "\n",
    "```"
   ]
  }
 ],
 "metadata": {
  "kernelspec": {
   "display_name": "Python 3 (ipykernel)",
   "language": "python",
   "name": "python3"
  },
  "language_info": {
   "codemirror_mode": {
    "name": "ipython",
    "version": 3
   },
   "file_extension": ".py",
   "mimetype": "text/x-python",
   "name": "python",
   "nbconvert_exporter": "python",
   "pygments_lexer": "ipython3",
   "version": "3.9.6"
  },
  "latex_envs": {
   "LaTeX_envs_menu_present": true,
   "autoclose": false,
   "autocomplete": true,
   "bibliofile": "biblio.bib",
   "cite_by": "apalike",
   "current_citInitial": 1,
   "eqLabelWithNumbers": true,
   "eqNumInitial": 1,
   "hotkeys": {
    "equation": "Ctrl-E",
    "itemize": "Ctrl-I"
   },
   "labels_anchors": false,
   "latex_user_defs": false,
   "report_style_numbering": false,
   "user_envs_cfg": false
  },
  "toc": {
   "base_numbering": 1,
   "nav_menu": {},
   "number_sections": true,
   "sideBar": true,
   "skip_h1_title": false,
   "title_cell": "Table of Contents",
   "title_sidebar": "모듈(Module)",
   "toc_cell": false,
   "toc_position": {},
   "toc_section_display": true,
   "toc_window_display": true
  }
 },
 "nbformat": 4,
 "nbformat_minor": 4
}
