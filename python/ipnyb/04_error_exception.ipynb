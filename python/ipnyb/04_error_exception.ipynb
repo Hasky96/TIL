{
 "cells": [
  {
   "cell_type": "markdown",
   "metadata": {},
   "source": [
    "<p style=\"font-size: 33px; font-weight: 700; margin-bottom: 3rem\">에러 & 예외 처리</p>\n",
    "\n",
    "- 에러(Error)\n",
    "- 예외 처리(Exception Handling)\n",
    "\n",
    "[파이썬 문서](https://docs.python.org/ko/3/library/exceptions.html#exception-hierarchy)\n"
   ]
  },
  {
   "cell_type": "markdown",
   "metadata": {},
   "source": [
    "# 에러(Error)\n",
    "발생할 수 있는 에러의 종류를 확인해봅시다."
   ]
  },
  {
   "cell_type": "markdown",
   "metadata": {},
   "source": [
    "## 문법 에러(Syntax Error)\n",
    "\n",
    "> 문법 에러가 있는 프로그램은 실행되지 않습니다.\n",
    "\n",
    "* 에러 발생 시 `SyntaxError`라는 키워드와 함께, 에러의 상세 내용을 보여줍니다.\n",
    "\n",
    "\n",
    "* `파일이름`과 `줄번호`, `^` 문자를 통해 파이썬이 코드를 읽어 들일 때(`parser`) 문제가 발생한 위치를 표현합니다.\n",
    "\n",
    "\n",
    "* `parser` 는 줄에서 에러가 감지된 가장 앞의 위치를 가리키는 캐럿(caret)기호(`^`)를 표시합니다."
   ]
  },
  {
   "cell_type": "code",
   "execution_count": null,
   "metadata": {},
   "outputs": [],
   "source": [
    "# 조건문을 통해 문법 에러를 발생시켜봅시다.\n",
    "\n",
    "# 아래 코드는 else문 뒤에 콜론이 누락되어 있습니다.\n",
    "# 코드를 실행시켜보고 invalid syntax 오류를 확인해보세요."
   ]
  },
  {
   "cell_type": "code",
   "execution_count": null,
   "metadata": {},
   "outputs": [],
   "source": [
    "if True:\n",
    "    print('참')\n",
    "else\n",
    "    print('거짓')"
   ]
  },
  {
   "cell_type": "code",
   "execution_count": null,
   "metadata": {},
   "outputs": [],
   "source": [
    "# print문을 통해 다른 오류를 발생시켜봅시다.\n",
    "\n",
    "# 아래 코드는 닫는 따옴표가 누락되어 있습니다.\n",
    "# 코드를 실행시켜보고 EOL 오류(따옴표 오류)를 확인해봅시다."
   ]
  },
  {
   "cell_type": "code",
   "execution_count": null,
   "metadata": {},
   "outputs": [],
   "source": [
    "print('hi)"
   ]
  },
  {
   "cell_type": "code",
   "execution_count": null,
   "metadata": {},
   "outputs": [],
   "source": [
    "# EOF 에러(괄호 닫기 오류)도 보게됩니다."
   ]
  },
  {
   "cell_type": "code",
   "execution_count": null,
   "metadata": {},
   "outputs": [],
   "source": [
    "print('hi'"
   ]
  },
  {
   "cell_type": "code",
   "execution_count": null,
   "metadata": {},
   "outputs": [],
   "source": [
    "# 정확한 위치를 지정하지 않을 수도 있으므로 지정된 위치 전후를 모두 확인해야합니다.\n",
    "\n",
    "# 아래 코드의 조건문에는 콜론이 누락되어 있습니다.\n",
    "# 코드를 실행시켜보고 문법 오류를 확인해보세요."
   ]
  },
  {
   "cell_type": "code",
   "execution_count": null,
   "metadata": {},
   "outputs": [],
   "source": [
    "if True print('참')"
   ]
  },
  {
   "cell_type": "markdown",
   "metadata": {},
   "source": [
    "## 예외(Exception)\n",
    "\n",
    "> 실행 도중 예상하지 못한 상황(exception)을 맞이하면, 프로그램 실행을 멈춥니다. \n",
    "\n",
    "* 문법적으로는 옳지만, 실행시 발생하는 에러입니다.\n",
    "\n",
    "\n",
    "* *아래 제시된 모든 에러는 `Exception`을 상속받아 이뤄진다.*"
   ]
  },
  {
   "cell_type": "code",
   "execution_count": null,
   "metadata": {},
   "outputs": [],
   "source": [
    "# ZeroDivisionError를 확인해봅시다."
   ]
  },
  {
   "cell_type": "code",
   "execution_count": null,
   "metadata": {},
   "outputs": [],
   "source": [
    "# 파이썬에서는 어떤 수를 0으로 나누게 되면 에러가 발생합니다\n",
    "# 어떤 수를 0으로 나누는 코드를 작성해보고 오류를 확인해보세요.\n"
   ]
  },
  {
   "cell_type": "code",
   "execution_count": null,
   "metadata": {},
   "outputs": [],
   "source": [
    "# NameError를 확인해봅시다. "
   ]
  },
  {
   "cell_type": "code",
   "execution_count": null,
   "metadata": {},
   "outputs": [],
   "source": [
    "# 지역 혹은 전역 이름 공간내에서 유효하지 않는 이름은 사용할 수 없습니다.\n",
    "# 즉, 어느 곳에서도 정의되지 않은 변수를 호출 하였을 경우 에러가 발생합니다.\n",
    "# abc라는 변수를 print로 출력해보고 오류를 확인해보세요.\n"
   ]
  },
  {
   "cell_type": "code",
   "execution_count": null,
   "metadata": {},
   "outputs": [],
   "source": [
    "# TypeError를 확인해봅시다."
   ]
  },
  {
   "cell_type": "code",
   "execution_count": null,
   "metadata": {},
   "outputs": [],
   "source": [
    "# 자료형이 올바르지 못한 경우에도 에러가 발생합니다.\n",
    "# 숫자 1과 문자 1을 더하는 코드를 작성해보고 오류를 확인해보세요.\n"
   ]
  },
  {
   "cell_type": "code",
   "execution_count": null,
   "metadata": {},
   "outputs": [],
   "source": [
    "# 함수 호출과정에서도 TypeError 오류가 발생할 수 있습니다.\n",
    "# round 함수는 어떤 수를 반올림해주는 내장 함수입니다.\n",
    "# round 함수에 숫자가 아닌 문자를 넣어보고 발생하는 오류를 확인해봅시다."
   ]
  },
  {
   "cell_type": "code",
   "execution_count": null,
   "metadata": {},
   "outputs": [],
   "source": []
  },
  {
   "cell_type": "code",
   "execution_count": null,
   "metadata": {},
   "outputs": [],
   "source": [
    "# 함수호출 과정에서 다양한 오류를 확인할 수 있습니다. \n",
    "# (1) 필수 매개변수가 누락된 경우를 살펴봅시다."
   ]
  },
  {
   "cell_type": "code",
   "execution_count": null,
   "metadata": {},
   "outputs": [],
   "source": [
    "# 내장 random 모듈을 불러오세요.\n",
    "# random.sample() 함수는 2개의 매개변수를 받도록 정의되어 있습니다.\n",
    "# random.sample() 함수에 숫자 3개가 담긴 리스트만 넣고 호출해보세요.\n",
    "# 그리고 매개변수가 누락되어 발생하는 오류를 확인해보세요.\n"
   ]
  },
  {
   "cell_type": "code",
   "execution_count": null,
   "metadata": {},
   "outputs": [],
   "source": [
    "# 함수호출 과정에서 다양한 오류를 확인할 수 있습니다. \n",
    "# (2) 매개변수 개수가 초과해서 들어온 경우를 살펴봅시다."
   ]
  },
  {
   "cell_type": "code",
   "execution_count": null,
   "metadata": {},
   "outputs": [],
   "source": [
    "# random.choice() 함수는 하나의 매개변수만 받도록 정의되어 있습니다.\n",
    "# 숫자 3개가 담긴 리스트와, 숫자 6을 넣고 호출해보세요.\n",
    "# 그리고 매개변수가 초가되어 발생하는 오류를 확인해보세요.\n",
    "# ====\n",
    "random.choice([1, 2, 3], 6)"
   ]
  },
  {
   "cell_type": "code",
   "execution_count": null,
   "metadata": {},
   "outputs": [],
   "source": [
    "# ValueError를 확인해봅시다."
   ]
  },
  {
   "cell_type": "code",
   "execution_count": null,
   "metadata": {},
   "outputs": [],
   "source": [
    "# 자료형은 올바르나 값이 적절하지 않은 경우를 살펴봅시다.\n",
    "# int()는 정수가 아닌 값을 받았을 경우 에러가 발생합니다.\n",
    "# int() 안에 문자 3.5를 넣고 호출한 뒤 발생하는 오류를 확인해보세요.\n"
   ]
  },
  {
   "cell_type": "code",
   "execution_count": null,
   "metadata": {},
   "outputs": [],
   "source": [
    "# ValueError를 확인해봅시다."
   ]
  },
  {
   "cell_type": "code",
   "execution_count": null,
   "metadata": {},
   "outputs": [],
   "source": [
    "# 존재하지 않는 값을 찾고자 할 경우\n",
    "# index()는 리스트에서 찾고자 하는 값의 인덱스를 반환합니다.\n",
    "# numbers 리스트에 없는 값인 3을 찾게 되면 에러가 발생합니다.\n",
    "# 아래 코드를 실행시킨 뒤 발생하는 오류를 확인해보세요.\n",
    "\n",
    "numbers = [1, 2]\n",
    "numbers.index(3)"
   ]
  },
  {
   "cell_type": "code",
   "execution_count": null,
   "metadata": {},
   "outputs": [],
   "source": [
    "# IndexError를 확인해봅시다."
   ]
  },
  {
   "cell_type": "code",
   "execution_count": null,
   "metadata": {},
   "outputs": [],
   "source": [
    "# 존재하지 않는 index로 조회할 경우\n",
    "# 비어있는 리스트는 어떤 인덱스 값으로든 접근할 수 없습니다.\n",
    "# 비어있는 empty_list를 -1 인덱스로 접근했을 때 발생하는 오류를 확인해보세요.\n",
    "\n",
    "empty_list = []\n",
    "empty_list[-1]"
   ]
  },
  {
   "cell_type": "code",
   "execution_count": null,
   "metadata": {},
   "outputs": [],
   "source": [
    "# KeyError를 확인해봅시다. "
   ]
  },
  {
   "cell_type": "code",
   "execution_count": null,
   "metadata": {},
   "outputs": [],
   "source": [
    "# 딕셔너리에서 Key가 없는 경우 \n",
    "\n",
    "# 딕셔너리는 존재하지 않는 Key로 접근하게 되면 오류가 발생합니다.\n",
    "# 아래 songs라는 딕셔너리에는 'sia'라는 Key만 존재하며,\n",
    "# 'queen'이라는 키는 존재하지 않습니다.\n",
    "# 코드를 실행시켜보고 발생하는 오류를 확인해보세요.\n",
    "\n",
    "songs = {'sia': 'candy cane lane'}\n",
    "songs['queen']"
   ]
  },
  {
   "cell_type": "code",
   "execution_count": null,
   "metadata": {},
   "outputs": [],
   "source": [
    "# ModuleNotFoundError를 확인해봅시다."
   ]
  },
  {
   "cell_type": "code",
   "execution_count": null,
   "metadata": {},
   "outputs": [],
   "source": [
    "# 모듈을 찾을 수 없는 경우 \n",
    "\n",
    "# 파이썬에 존재하지 않는 모듈인 \"reque\"라는 이름의 모듈을 불러와봅시다(import).\n",
    "# 그리고 발생하는 오류를 확인해보세요.\n"
   ]
  },
  {
   "cell_type": "code",
   "execution_count": null,
   "metadata": {},
   "outputs": [],
   "source": [
    "# ImportError를 확인해봅시다."
   ]
  },
  {
   "cell_type": "code",
   "execution_count": null,
   "metadata": {},
   "outputs": [],
   "source": [
    "# 모듈을 찾았으나 가져오는 과정에서 실패하는 경우 (존재하지 않는 클래스/함수 호출)\n",
    "\n",
    "# 파이썬 내장 random 모듈은 존재하나 그 안에 \"sampl\"이라는 함수는 존재하지 않습니다.\n",
    "# random 모듈을 불러와서 \"sampl\"이라는 함수를 불러와보고, 발생하는 오류를 확인해보세요.\n"
   ]
  },
  {
   "cell_type": "code",
   "execution_count": null,
   "metadata": {},
   "outputs": [],
   "source": [
    "# KeyboardInterrupt를 확인해봅시다."
   ]
  },
  {
   "cell_type": "code",
   "execution_count": null,
   "metadata": {},
   "outputs": [],
   "source": [
    "# 주피터 노트북에서는 정지 버튼이지만, 실제로 우리가 돌릴 때는 ctrl+c를 통해 종료하였을 때 발생합니다.\n",
    "# 무한 반복되는 while문을 실행시켜보고, 정지시켜보세요.\n",
    "# 그리고 발생하는 오류를 확인해보세요.\n",
    "\n"
   ]
  },
  {
   "cell_type": "markdown",
   "metadata": {},
   "source": [
    "# 예외 처리(Exception Handling)\n",
    "\n",
    "##  `try` & `except`\n",
    "`try` 문을 이용하여 예외 처리를 할 수 있습니다.\n",
    "\n",
    "---\n",
    "\n",
    "### 기초 문법\n",
    "\n",
    "```python\n",
    "try:\n",
    "    <코드 블럭 1>\n",
    "except (예외):\n",
    "    <코드 블럭 2>\n",
    "```\n",
    "\n",
    "* `try` 아래의 코드블락(code block)이 실행됩니다. \n",
    "\n",
    "* 예외가 발생되지 않으면, **`except`없이 실행이 종료 됩니다.**\n",
    "\n",
    "* 예외가 발생하면, **남은 부분을 수행하지 않고**, `except`가 실행됩니다."
   ]
  },
  {
   "cell_type": "code",
   "execution_count": null,
   "metadata": {},
   "outputs": [],
   "source": [
    "# 사용자로부터 값을 받아 정수로 변환하여 출력해봅시다."
   ]
  },
  {
   "cell_type": "code",
   "execution_count": null,
   "metadata": {},
   "outputs": [],
   "source": [
    "# input() 함수를 이용하여 사용자로부터 입력을 받은 뒤\n",
    "# 해당 값을 정수로 변환하여 출력해보세요.\n",
    "\n"
   ]
  },
  {
   "cell_type": "code",
   "execution_count": null,
   "metadata": {},
   "outputs": [],
   "source": [
    "# 사용자가 문자열을 넣어 해당 오류(ValueError)가 발생하면, 숫자를 입력하라고 출력해봅시다.\n",
    "# 위에서 배운 try-except 구문을 활용해보세요."
   ]
  },
  {
   "cell_type": "code",
   "execution_count": null,
   "metadata": {},
   "outputs": [],
   "source": []
  },
  {
   "cell_type": "markdown",
   "metadata": {},
   "source": [
    "### 복수의 예외 처리\n",
    "\n",
    "하나 이상의 예외를 모두 처리할 수 있습니다. \n",
    "\n",
    "괄호가 있는 튜플로 여러 개의 예외를 지정할 수 있습니다.\n",
    "\n",
    "---\n",
    "\n",
    "**활용법**\n",
    "\n",
    "```python\n",
    "try:\n",
    "    <코드 블럭 1>\n",
    "except (예외1, 예외2):\n",
    "    <코드 블럭 2>\n",
    "\n",
    "\n",
    "try:\n",
    "    <코드 블럭 1>\n",
    "except 예외1:\n",
    "    <코드 블럭 2>\n",
    "except 예외2:\n",
    "    <코드 블럭 3>\n",
    "```"
   ]
  },
  {
   "cell_type": "code",
   "execution_count": null,
   "metadata": {},
   "outputs": [],
   "source": [
    "# 숫자 100을 사용자가 입력한 값으로 나눈 후 출력하는 코드를 작성해봅시다.\n",
    "\n",
    "# input() 함수를 이용하여 사용자로부터 입력을 받으세요.\n",
    "# 해당 값을 정수로 변환한 뒤, 숫자 100을 입력받은 값으로 나누는 코드를 작성해보세요."
   ]
  },
  {
   "cell_type": "code",
   "execution_count": null,
   "metadata": {},
   "outputs": [],
   "source": []
  },
  {
   "cell_type": "code",
   "execution_count": null,
   "metadata": {},
   "outputs": [],
   "source": [
    "# 문자열일때와 0일때의 경우를 모두 처리를 해봅시다.\n",
    "\n",
    "# 어떤 값을 숫자가 아닌 값으로 나눌 때 발생하는 에러는 ValueError입니다.\n",
    "# 어떤 값을 0으로 나눌 때 발생하는 에러는 ZeroDivisionError입니다.\n",
    "# try-except 구문을 활용하여 위의 두 오류를 처리해보세요."
   ]
  },
  {
   "cell_type": "code",
   "execution_count": null,
   "metadata": {},
   "outputs": [],
   "source": []
  },
  {
   "cell_type": "code",
   "execution_count": null,
   "metadata": {},
   "outputs": [],
   "source": [
    "# 각각 다른 오류를 출력할 수 있습니다.\n",
    "# 여러 개의 except 구문을 활용해보세요.\n",
    "# (ValueError, ZeroDivisionError)"
   ]
  },
  {
   "cell_type": "code",
   "execution_count": null,
   "metadata": {},
   "outputs": [],
   "source": []
  },
  {
   "cell_type": "markdown",
   "metadata": {},
   "source": [
    "- 여기서 중요한 내용은 **에러가 순차적으로 수행됨**으로, 가장 작은 범주부터 시작해야 합니다."
   ]
  },
  {
   "cell_type": "code",
   "execution_count": null,
   "metadata": {},
   "outputs": [],
   "source": [
    "# Exception은 가장 큰 범주의 에러로써 모든 에러를 처리할 수 있습니다.\n",
    "# 따라서 아래 코드는 숫자가 아닌 값을 넣었을 때 순차적으로 먼저 적힌 Exception 에러가 발생합니다.\n",
    "# 코드를 실행하고 결과를 확인해보세요.\n",
    "\n",
    "try:\n",
    "    num = input('값을 입력하시오: ')\n",
    "    100/int(num)\n",
    "except Exception: # Exception 은 가장 큰 범주\n",
    "    print('모르겠지만 에러야')\n",
    "except ValueError:\n",
    "    print('숫자를 넣어')"
   ]
  },
  {
   "cell_type": "markdown",
   "metadata": {},
   "source": [
    "### `else`\n",
    "\n",
    "* 에러가 발생하지 않는 경우 수행되는 문장은 `else`를 이용합니다.\n",
    "* 모든 except 절 뒤에와야 합니다.\n",
    "* try 절이 예외를 일으키지 않을 때 실행되어야만 하는 코드에 적절합니다.\n",
    "\n",
    "---\n",
    "\n",
    "**활용법**\n",
    "\n",
    "```python\n",
    "try:\n",
    "    <코드 블럭 1>\n",
    "except 예외:\n",
    "    <코드 블럭 2>\n",
    "else:\n",
    "    <코드 블럭 3>\n",
    "```"
   ]
  },
  {
   "cell_type": "code",
   "execution_count": null,
   "metadata": {},
   "outputs": [],
   "source": [
    "# else를 사용해봅시다.\n",
    "\n",
    "# try 구문에서 numbers라는 이름의 리스트에 숫자 3개를 저장하세요.\n",
    "# 그리고 존재하지 않는 인덱스의 값을 가져와서 number 변수에 저장하세요.\n",
    "# (이 때, 존재하지 않는 인덱스를 참고하는 경우 IndexError가 발생하게 됩니다.)\n",
    "# except 구문에서 IndexError가 발생할 경우 '오류 발생'이라는 메세지를 출력하세요.\n",
    "# 마지막으로 else 구문을 활용하여 number * 100을 출력해보세요."
   ]
  },
  {
   "cell_type": "code",
   "execution_count": null,
   "metadata": {},
   "outputs": [],
   "source": [
    "try:\n",
    "    numbers = [1, 2, 3]\n",
    "    number = numbers[2]\n",
    "except IndexError:\n",
    "    print('오류 발생')\n",
    "else:\n",
    "    print(number * 100)"
   ]
  },
  {
   "cell_type": "code",
   "execution_count": null,
   "metadata": {},
   "outputs": [],
   "source": [
    "try:\n",
    "    numbers = [1, 2, 3]\n",
    "    number = numbers[100]\n",
    "except IndexError:\n",
    "    print('오류 발생')\n",
    "else:\n",
    "    print(number * 100)"
   ]
  },
  {
   "cell_type": "markdown",
   "metadata": {},
   "source": [
    "### `finally` \n",
    "\n",
    "* 반드시 수행해야하는 문장은 `finally`를 활용합니다.\n",
    "* 즉, 모든 상황에 실행되어야만 하는 코드를 정의하는데 활용합니다.\n",
    "* 예외의 발생 여부과 관계없이 try 문을 떠날 때 항상 실행합니다.\n",
    "\n",
    "---\n",
    "\n",
    "**활용법**\n",
    "\n",
    "```python\n",
    "try:\n",
    "    <코드 블럭 1>\n",
    "except 예외:\n",
    "    <코드 블럭 2>\n",
    "finally:\n",
    "    <코드 블럭 3>\n",
    "```"
   ]
  },
  {
   "cell_type": "code",
   "execution_count": null,
   "metadata": {},
   "outputs": [],
   "source": [
    "# finally를 사용해봅시다."
   ]
  },
  {
   "cell_type": "code",
   "execution_count": null,
   "metadata": {
    "ExecuteTime": {
     "end_time": "2021-01-15T05:22:42.627476Z",
     "start_time": "2021-01-15T05:22:42.617410Z"
    }
   },
   "outputs": [],
   "source": [
    "# 아래 코드에서 finally 구문을 활용하여 '성적 파일을 종료합니다'라는 메세지를 출력해보세요.\n",
    "\n",
    "try:\n",
    "    print('성적 파일을 읽어옵니다.')\n",
    "    data = {'python': 'A+'}\n",
    "    data['java']\n",
    "except KeyError as err:\n",
    "    print(f'{err}는 딕셔너리에 없는 키입니다.')"
   ]
  },
  {
   "cell_type": "markdown",
   "metadata": {},
   "source": [
    "### 에러 메시지 처리  `as`\n",
    "\n",
    "`as` 키워드를 활용하여 에러 메시지를 보여줄 수도 있습니다.\n",
    "\n",
    "---\n",
    "\n",
    "**활용법**\n",
    "\n",
    "```python\n",
    "try:\n",
    "    <코드 블럭 1>\n",
    "except 예외 as err:\n",
    "    <코드 블럭 2>\n",
    "```"
   ]
  },
  {
   "cell_type": "code",
   "execution_count": null,
   "metadata": {},
   "outputs": [],
   "source": [
    "# except 구문에서 발생하는 에러 메세지를 코드 블럭에 넘겨줄 수도 있습니다."
   ]
  },
  {
   "cell_type": "code",
   "execution_count": null,
   "metadata": {},
   "outputs": [],
   "source": [
    "# 아래 코드에서 as를 활용하여 에러 메세지를 그 아래 코드 블럭에 넘겨보세요.\n",
    "# 그리고 as로 명명한 에러 메세지를 print를 이용하여 출력해보세요.\n",
    "\n",
    "try:\n",
    "    empty_list = []\n",
    "    print(empty_list[-1])\n",
    "except IndexError:\n",
    "    # 여기에 코드를 작성하세요"
   ]
  },
  {
   "cell_type": "code",
   "execution_count": null,
   "metadata": {},
   "outputs": [],
   "source": [
    "# \n",
    "\n",
    "try:\n",
    "    empty_list = []\n",
    "    print(empty_list[-1])\n",
    "except IndexError as err:\n",
    "    print(f'{err}, 오류가 발생했습니다.')"
   ]
  },
  {
   "cell_type": "markdown",
   "metadata": {},
   "source": [
    "## 예외 발생 시키기(Exception Raising)\n",
    "\n"
   ]
  },
  {
   "cell_type": "markdown",
   "metadata": {},
   "source": [
    "### `raise`\n",
    "`raise`를 통해 예외를 강제로 발생시킬 수 있습니다.\n",
    "\n",
    "---\n",
    "\n",
    "**활용법**\n",
    "\n",
    "```python\n",
    "raise <에러>('메시지')\n",
    "```"
   ]
  },
  {
   "cell_type": "code",
   "execution_count": null,
   "metadata": {},
   "outputs": [],
   "source": [
    "# raise를 사용해봅시다."
   ]
  },
  {
   "cell_type": "code",
   "execution_count": null,
   "metadata": {
    "scrolled": true
   },
   "outputs": [],
   "source": [
    "# raise만 작성한 뒤 실행시켜봅시다.\n",
    "# 아래 코드를 실행시켜보고 결과를 확인하세요.\n",
    "\n",
    "raise"
   ]
  },
  {
   "cell_type": "code",
   "execution_count": null,
   "metadata": {
    "scrolled": true
   },
   "outputs": [],
   "source": [
    "# 이번에는 ValueError() 오류를 raise해봅시다.\n",
    "# 아래 코드를 실행시켜보고 결과를 확인하세요.\n",
    "\n",
    "raise ValueError('hi')"
   ]
  },
  {
   "cell_type": "markdown",
   "metadata": {},
   "source": [
    "### [연습] `raise` 예외 발생시키기\n",
    "\n",
    "> 리스트를 받아 평균을 반환하는 `def avg(scores)`를 작성하세요.\n",
    "\n",
    "---\n",
    "\n",
    "- scores의 길이가 0인 경우 `Exception`과 메시지를 발생시키세요.\n",
    "    - *예) Exception: 학생이 없습니다.*\n",
    "\n",
    "- 정상적인 경우에는 결과를 return합니다."
   ]
  },
  {
   "cell_type": "code",
   "execution_count": null,
   "metadata": {},
   "outputs": [],
   "source": [
    "# 아래에 코드를 작성하세요."
   ]
  },
  {
   "cell_type": "code",
   "execution_count": null,
   "metadata": {
    "ExecuteTime": {
     "end_time": "2021-01-15T08:39:39.991659Z",
     "start_time": "2021-01-15T08:39:39.988657Z"
    }
   },
   "outputs": [],
   "source": []
  },
  {
   "cell_type": "code",
   "execution_count": null,
   "metadata": {
    "ExecuteTime": {
     "end_time": "2021-01-15T08:41:03.063650Z",
     "start_time": "2021-01-15T08:41:03.046635Z"
    },
    "scrolled": true
   },
   "outputs": [],
   "source": [
    "# 해당 코드를 통해 올바른 결과가 나오는지 확인하세요.\n",
    "avg([])"
   ]
  },
  {
   "cell_type": "markdown",
   "metadata": {},
   "source": [
    "### `assert`\n",
    "\n",
    "`assert` 문은 예외를 발생시키는 다른 방법입니다. \n",
    "\n",
    "보통 **상태를 검증하는데 사용**되며 무조건 `AssertionError`가 발생합니다.\n",
    "\n",
    "---\n",
    "\n",
    "**활용법**\n",
    "\n",
    "```python\n",
    "assert Boolean expression, error message\n",
    "\n",
    "assert len([1, 2]) == 1, '길이가 1이 아닙니다.'\n",
    "```\n",
    "\n",
    "---\n",
    "\n",
    "위의 검증식이 거짓일 경우를 발생합니다.\n",
    "\n",
    "일반적으로 디버깅용도로 사용됩니다. [파이썬 문서](https://docs.python.org/ko/3/reference/simple_stmts.html#the-assert-statement)\n",
    "\n",
    "```bash\n",
    "$ python code.py\n",
    "Traceback (most recent call last):\n",
    "  File \"code.py\", line 1, in <module>\n",
    "    assert len([1, 2]) == 1, '길이가 1이 아닙니다.'\n",
    "AssertionError: 길이가 1이 아닙니다.\n",
    "\n",
    "$ python -O code.py\n",
    "\n",
    "```"
   ]
  }
 ],
 "metadata": {
  "kernelspec": {
   "display_name": "Python 3 (ipykernel)",
   "language": "python",
   "name": "python3"
  },
  "language_info": {
   "codemirror_mode": {
    "name": "ipython",
    "version": 3
   },
   "file_extension": ".py",
   "mimetype": "text/x-python",
   "name": "python",
   "nbconvert_exporter": "python",
   "pygments_lexer": "ipython3",
   "version": "3.9.6"
  },
  "latex_envs": {
   "LaTeX_envs_menu_present": true,
   "autoclose": false,
   "autocomplete": true,
   "bibliofile": "biblio.bib",
   "cite_by": "apalike",
   "current_citInitial": 1,
   "eqLabelWithNumbers": true,
   "eqNumInitial": 1,
   "hotkeys": {
    "equation": "Ctrl-E",
    "itemize": "Ctrl-I"
   },
   "labels_anchors": false,
   "latex_user_defs": false,
   "report_style_numbering": false,
   "user_envs_cfg": false
  },
  "toc": {
   "base_numbering": 1,
   "nav_menu": {},
   "number_sections": true,
   "sideBar": true,
   "skip_h1_title": false,
   "title_cell": "Table of Contents",
   "title_sidebar": "에러 & 예외 처리",
   "toc_cell": false,
   "toc_position": {},
   "toc_section_display": true,
   "toc_window_display": false
  }
 },
 "nbformat": 4,
 "nbformat_minor": 4
}
